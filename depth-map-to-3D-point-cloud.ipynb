{
 "cells": [
  {
   "cell_type": "code",
   "execution_count": null,
   "metadata": {},
   "outputs": [],
   "source": [
    "\"\"\"\n",
    "This script reads a registered pair of color and depth images and generates a\n",
    "colored 3D point cloud in the PLY format.\n",
    "\"\"\"\n",
    "\n",
    "import argparse\n",
    "import sys\n",
    "import os\n",
    "from PIL import Image\n",
    "\n",
    "focalLength = 525.0\n",
    "centerX = 319.5\n",
    "centerY = 239.5\n",
    "scalingFactor = 1000.0"
   ]
  },
  {
   "cell_type": "code",
   "execution_count": null,
   "metadata": {},
   "outputs": [],
   "source": [
    "\"\"\"\n",
    "METHOD-1:\n",
    "\n",
    "Generate a colored point cloud in PLY format from a color and a depth image.\n",
    "Input:\n",
    "    rgb_file -- filename of color image\n",
    "    depth_file -- filename of depth image\n",
    "    ply_file -- filename of ply file\n",
    "\"\"\"\n",
    "\n",
    "def generate_pointcloud_method1(rgb_file,depth_file,ply_file):\n",
    "    rgb = Image.open(rgb_file)\n",
    "    depth = Image.open(depth_file)\n",
    "    \n",
    "    if rgb.size != depth.size:\n",
    "        raise Exception(\"Color and depth image do not have the same resolution.\")\n",
    "    if rgb.mode != \"RGB\":\n",
    "        raise Exception(\"Color image is not in RGB format\")\n",
    "    if depth.mode != \"I\":\n",
    "        raise Exception(\"Depth image is not in intensity format\")\n",
    "\n",
    "\n",
    "    points = []    \n",
    "    for v in range(rgb.size[1]):\n",
    "        for u in range(rgb.size[0]):\n",
    "            color = rgb.getpixel((u,v))\n",
    "            Z = depth.getpixel((u,v)) / scalingFactor\n",
    "            if Z==0: continue\n",
    "            X = (u - centerX) * Z / focalLength\n",
    "            Y = (v - centerY) * Z / focalLength\n",
    "            points.append(\"%f %f %f %d %d %d 0\\n\"%(X,Y,Z,color[0],color[1],color[2]))\n",
    "    file = open(ply_file,\"w\")\n",
    "    file.write('''ply\n",
    "format ascii 1.0\n",
    "element vertex %d\n",
    "property float x\n",
    "property float y\n",
    "property float z\n",
    "property uchar red\n",
    "property uchar green\n",
    "property uchar blue\n",
    "property uchar alpha\n",
    "end_header\n",
    "%s\n",
    "'''%(len(points),\"\".join(points)))\n",
    "    file.close()\n"
   ]
  },
  {
   "cell_type": "code",
   "execution_count": null,
   "metadata": {},
   "outputs": [],
   "source": [
    "print('Enter rgb_file path, input color image (format: png)')\n",
    "rgb_file = input()"
   ]
  },
  {
   "cell_type": "code",
   "execution_count": null,
   "metadata": {},
   "outputs": [],
   "source": [
    "print('Enter depth_file path, input depth image (format: png)')\n",
    "depth_file = input()"
   ]
  },
  {
   "cell_type": "code",
   "execution_count": null,
   "metadata": {},
   "outputs": [],
   "source": [
    "print('Enter ply_file path,'output PLY file (format: ply)')\n",
    "ply_file = input()"
   ]
  },
  {
   "cell_type": "code",
   "execution_count": null,
   "metadata": {},
   "outputs": [],
   "source": [
    "generate_pointcloud_method1(rgb_file,depth_file,ply_file)"
   ]
  },
  {
   "cell_type": "code",
   "execution_count": null,
   "metadata": {},
   "outputs": [],
   "source": [
    "\"\"\"\n",
    "METHOD-2:\n",
    "\n",
    "    Transform a depth image into a point cloud with one point for each\n",
    "    pixel in the image, using the camera transform for a camera\n",
    "    centred at cx, cy with field of view fx, fy.\n",
    "\n",
    "    depth is a 2-D ndarray with shape (rows, cols) containing\n",
    "    depths from 1 to 254 inclusive. The result is a 3-D array with\n",
    "    shape (rows, cols, 3). Pixels with invalid depth in the input have\n",
    "    NaN for the z-coordinate in the result.\n",
    "\"\"\"\n",
    "def generate_pointcloud_method2(depth_file):\n",
    "\n",
    "    rows, cols = depth.shape\n",
    "    c, r = np.meshgrid(np.arange(cols), np.arange(rows), sparse=True)\n",
    "    valid = (depth > 0) & (depth < 255)\n",
    "    z = np.where(valid, depth / 256.0, np.nan)\n",
    "    x = np.where(valid, z * (c - self.cx) / self.fx, 0)\n",
    "    y = np.where(valid, z * (r - self.cy) / self.fy, 0)\n",
    "    return np.dstack((x, y, z))"
   ]
  },
  {
   "cell_type": "code",
   "execution_count": null,
   "metadata": {},
   "outputs": [],
   "source": [
    "generate_pointcloud_method2(depth_file)"
   ]
  }
 ],
 "metadata": {
  "kernelspec": {
   "display_name": "Python 3",
   "language": "python",
   "name": "python3"
  },
  "language_info": {
   "codemirror_mode": {
    "name": "ipython",
    "version": 3
   },
   "file_extension": ".py",
   "mimetype": "text/x-python",
   "name": "python",
   "nbconvert_exporter": "python",
   "pygments_lexer": "ipython3",
   "version": "3.5.2"
  }
 },
 "nbformat": 4,
 "nbformat_minor": 2
}
